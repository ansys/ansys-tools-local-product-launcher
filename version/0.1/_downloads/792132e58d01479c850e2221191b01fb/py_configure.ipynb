{
  "cells": [
    {
      "cell_type": "markdown",
      "metadata": {},
      "source": [
        "# Choose configuration at runtime\n"
      ]
    },
    {
      "cell_type": "markdown",
      "metadata": {},
      "source": [
        "Import the necessary modules.\n"
      ]
    },
    {
      "cell_type": "code",
      "execution_count": null,
      "metadata": {
        "collapsed": false
      },
      "outputs": [],
      "source": [
        "import os\n\nfrom example_httpserver_plugin import LauncherConfig\n\nfrom ansys.tools.local_product_launcher import launch_product"
      ]
    },
    {
      "cell_type": "markdown",
      "metadata": {},
      "source": [
        "# Default configuration\n\nFirst, launch the product without any configuration. This falls back to\nthe default configuration.\n"
      ]
    },
    {
      "cell_type": "code",
      "execution_count": null,
      "metadata": {
        "collapsed": false
      },
      "outputs": [],
      "source": [
        "product_instance = launch_product(product_name=\"example_httpserver\")\nproduct_instance.urls"
      ]
    },
    {
      "cell_type": "markdown",
      "metadata": {},
      "source": [
        "To ensure that the server is running, use the `wait()` method.\n"
      ]
    },
    {
      "cell_type": "code",
      "execution_count": null,
      "metadata": {
        "collapsed": false
      },
      "outputs": [],
      "source": [
        "product_instance.wait(timeout=5)"
      ]
    },
    {
      "cell_type": "markdown",
      "metadata": {},
      "source": [
        "Retrieve the content of the server\\'s main page. This simply serves a\nlist of files in the directory where the server was launched.\n"
      ]
    },
    {
      "cell_type": "code",
      "execution_count": null,
      "metadata": {
        "collapsed": false
      },
      "outputs": [],
      "source": [
        "import requests\n\nres = requests.get(f\"http://{product_instance.urls['main']}\")\nprint(res.content.decode(\"utf-8\"))"
      ]
    },
    {
      "cell_type": "markdown",
      "metadata": {},
      "source": [
        "# Custom configuration\n\nNow, try to launch the product with a custom configuration. This is done\nby passing the `config` and `launch_mode` arguments to the\n`.launch_product`{.interpreted-text role=\"func\"} function.\n"
      ]
    },
    {
      "cell_type": "code",
      "execution_count": null,
      "metadata": {
        "collapsed": false
      },
      "outputs": [],
      "source": [
        "directory = os.path.join(os.getcwd(), \"..\")\nproduct_instance = launch_product(\n    product_name=\"example_httpserver\",\n    config=LauncherConfig(directory=directory),\n    launch_mode=\"direct\",\n)\nproduct_instance.urls"
      ]
    },
    {
      "cell_type": "markdown",
      "metadata": {},
      "source": [
        "Again, ensure that the server is running.\n"
      ]
    },
    {
      "cell_type": "code",
      "execution_count": null,
      "metadata": {
        "collapsed": false
      },
      "outputs": [],
      "source": [
        "product_instance.wait(timeout=5)"
      ]
    },
    {
      "cell_type": "markdown",
      "metadata": {},
      "source": [
        "Get the content of the main page.\n"
      ]
    },
    {
      "cell_type": "code",
      "execution_count": null,
      "metadata": {
        "collapsed": false
      },
      "outputs": [],
      "source": [
        "full_url = f\"http://{product_instance.urls['main']}\"\nres = requests.get(full_url)\nprint(res.content.decode(\"utf-8\"))"
      ]
    },
    {
      "cell_type": "markdown",
      "metadata": {},
      "source": [
        "You can see that the server is now showing the files from the parent\ndirectory.\n"
      ]
    },
    {
      "cell_type": "markdown",
      "metadata": {},
      "source": [
        "# Teardown\n\nYou can manually stop the server using the\n`stop() <.ProductInstance.stop>`{.interpreted-text role=\"meth\"} method.\nAlternatively, the server is stopped when all references to\n`product_instance` are deleted.\n"
      ]
    },
    {
      "cell_type": "code",
      "execution_count": null,
      "metadata": {
        "collapsed": false
      },
      "outputs": [],
      "source": [
        "product_instance.stop()"
      ]
    },
    {
      "cell_type": "markdown",
      "metadata": {},
      "source": [
        "To ensure that the server is down, try to access the main page again.\n"
      ]
    },
    {
      "cell_type": "code",
      "execution_count": null,
      "metadata": {
        "collapsed": false
      },
      "outputs": [],
      "source": [
        "try:\n    requests.get(full_url)\nexcept requests.ConnectionError:\n    print(\"The server is down.\")"
      ]
    }
  ],
  "metadata": {
    "kernelspec": {
      "display_name": "Python 3",
      "language": "python",
      "name": "python3"
    },
    "language_info": {
      "codemirror_mode": {
        "name": "ipython",
        "version": 3
      },
      "file_extension": ".py",
      "mimetype": "text/x-python",
      "name": "python",
      "nbconvert_exporter": "python",
      "pygments_lexer": "ipython3",
      "version": "3.13.0"
    }
  },
  "nbformat": 4,
  "nbformat_minor": 0
}