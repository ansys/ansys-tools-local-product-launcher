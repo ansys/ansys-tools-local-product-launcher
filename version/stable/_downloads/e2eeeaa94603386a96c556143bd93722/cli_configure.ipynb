{
  "cells": [
    {
      "cell_type": "markdown",
      "metadata": {},
      "source": [
        "# Configure the launcher from the command line\n\nThis example shows how to configure the `example_httpserver` plugin from\nthe command line. It consists mostly of command-line interactions. With\nthe exception of interactive commands, this example can be run when\ndownloaded as a Jupyter notebook. The interactive commands and their\noutputs are simply shown as text.\n\nThe configuration contains only a single value, `directory`, which\nspecifies the where the HTTP server is to serve files from.\n"
      ]
    },
    {
      "cell_type": "markdown",
      "metadata": {},
      "source": [
        "To see the list of launch modes for the `example_httpserver` product,\nrun this code:\n"
      ]
    },
    {
      "cell_type": "code",
      "execution_count": null,
      "metadata": {
        "collapsed": false
      },
      "outputs": [],
      "source": [
        "%%bash\nansys-launcher configure example_httpserver"
      ]
    },
    {
      "cell_type": "markdown",
      "metadata": {},
      "source": [
        "\nHere is the output:\n\n    Usage: ansys-launcher configure example_httpserver [OPTIONS] COMMAND [ARGS]...\n\n    Options:\n    --help  Show this message and exit.\n\n    Commands:\n    direct\n"
      ]
    },
    {
      "cell_type": "markdown",
      "metadata": {},
      "source": [
        "# Interactive configuration\n\nTo interactively specify the available configuration options, run this\ncommand:\n\n``` bash\nansys-launcher configure example_httpserver direct\n```\n\nThe preceding command might result in a session like this:\n\n    directory:\n     [<current-working-directory>]: /path/to/directory\n\n    Updated /home/<your_username>/.config/ansys_tools_local_product_launcher/config.json\n"
      ]
    },
    {
      "cell_type": "markdown",
      "metadata": {},
      "source": [
        "# Non-interactive configuration\n\nAlternatively, you can specify the configuration fully from the command\nline (non-interactively):\n"
      ]
    },
    {
      "cell_type": "code",
      "execution_count": null,
      "metadata": {
        "collapsed": false
      },
      "outputs": [],
      "source": [
        "%%bash\nansys-launcher configure example_httpserver direct --directory /path/to/directory"
      ]
    }
  ],
  "metadata": {
    "kernelspec": {
      "display_name": "Python 3",
      "language": "python",
      "name": "python3"
    },
    "language_info": {
      "codemirror_mode": {
        "name": "ipython",
        "version": 3
      },
      "file_extension": ".py",
      "mimetype": "text/x-python",
      "name": "python",
      "nbconvert_exporter": "python",
      "pygments_lexer": "ipython3",
      "version": "3.13.0"
    }
  },
  "nbformat": 4,
  "nbformat_minor": 0
}